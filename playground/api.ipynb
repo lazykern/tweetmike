{
 "cells": [
  {
   "cell_type": "code",
   "execution_count": 1,
   "metadata": {},
   "outputs": [],
   "source": [
    "import tweepy\n",
    "import dotenv"
   ]
  },
  {
   "cell_type": "code",
   "execution_count": 2,
   "metadata": {},
   "outputs": [],
   "source": [
    "env_values = dotenv.dotenv_values(dotenv_path='../.env.local')\n",
    "TWITTER_ID = env_values['NEXT_PUBLIC_TWITTER_ID']\n",
    "TWITTER_SECRET = env_values['NEXT_PUBLIC_TWITTER_SECRET']\n",
    "\n",
    "env_values = dotenv.dotenv_values(dotenv_path='./cred.env')\n",
    "ACCESS_TOKEN = env_values['ACCESS_TOKEN']\n",
    "SECRET = env_values['SECRET']"
   ]
  },
  {
   "cell_type": "code",
   "execution_count": 3,
   "metadata": {},
   "outputs": [],
   "source": [
    "client = tweepy.Client(\n",
    "    consumer_key=TWITTER_ID,\n",
    "    consumer_secret=TWITTER_SECRET,\n",
    "    access_token=ACCESS_TOKEN,\n",
    "    access_token_secret=SECRET\n",
    ")"
   ]
  },
  {
   "cell_type": "code",
   "execution_count": 4,
   "metadata": {},
   "outputs": [],
   "source": [
    "auth = tweepy.OAuth1UserHandler(TWITTER_ID, TWITTER_SECRET, ACCESS_TOKEN, SECRET)\n",
    "api = tweepy.API(auth)"
   ]
  },
  {
   "cell_type": "code",
   "execution_count": 5,
   "metadata": {},
   "outputs": [],
   "source": [
    "timeline = api.user_timeline()"
   ]
  },
  {
   "cell_type": "code",
   "execution_count": 6,
   "metadata": {},
   "outputs": [
    {
     "data": {
      "text/plain": [
       "'RT @void_inzalis: 【プレミア公開】\\n”Testify” - void (Mournfinale) feat. 星熊南巫\\n\\n2022.07.15 (Fri) 20:00 JST \\n\\nPremire on YouTube\\nhttps://t.co/4lxDgule…'"
      ]
     },
     "execution_count": 6,
     "metadata": {},
     "output_type": "execute_result"
    }
   ],
   "source": [
    "timeline[0].text"
   ]
  },
  {
   "cell_type": "code",
   "execution_count": 7,
   "metadata": {},
   "outputs": [
    {
     "data": {
      "text/plain": [
       "datetime.datetime(2022, 7, 15, 4, 24, 24, tzinfo=datetime.timezone.utc)"
      ]
     },
     "execution_count": 7,
     "metadata": {},
     "output_type": "execute_result"
    }
   ],
   "source": [
    "timeline[0].created_at"
   ]
  },
  {
   "cell_type": "code",
   "execution_count": 8,
   "metadata": {},
   "outputs": [
    {
     "data": {
      "text/plain": [
       "User(_api=<tweepy.api.API object at 0x7fa93e6edb80>, _json={'id': 1129610210534801409, 'id_str': '1129610210534801409', 'name': 'phusitsom', 'screen_name': 'phusitsom', 'location': '', 'description': 'Profile picture by シエラ (fatalis hikari from arcaea)', 'url': None, 'entities': {'description': {'urls': []}}, 'protected': False, 'followers_count': 17, 'friends_count': 254, 'listed_count': 0, 'created_at': 'Sat May 18 04:50:36 +0000 2019', 'favourites_count': 2143, 'utc_offset': None, 'time_zone': None, 'geo_enabled': False, 'verified': False, 'statuses_count': 15, 'lang': None, 'contributors_enabled': False, 'is_translator': False, 'is_translation_enabled': False, 'profile_background_color': 'F5F8FA', 'profile_background_image_url': None, 'profile_background_image_url_https': None, 'profile_background_tile': False, 'profile_image_url': 'http://pbs.twimg.com/profile_images/1545989047901794304/CuWuqd1c_normal.jpg', 'profile_image_url_https': 'https://pbs.twimg.com/profile_images/1545989047901794304/CuWuqd1c_normal.jpg', 'profile_banner_url': 'https://pbs.twimg.com/profile_banners/1129610210534801409/1657424434', 'profile_link_color': '1DA1F2', 'profile_sidebar_border_color': 'C0DEED', 'profile_sidebar_fill_color': 'DDEEF6', 'profile_text_color': '333333', 'profile_use_background_image': True, 'has_extended_profile': True, 'default_profile': True, 'default_profile_image': False, 'following': False, 'follow_request_sent': False, 'notifications': False, 'translator_type': 'none', 'withheld_in_countries': []}, id=1129610210534801409, id_str='1129610210534801409', name='phusitsom', screen_name='phusitsom', location='', description='Profile picture by シエラ (fatalis hikari from arcaea)', url=None, entities={'description': {'urls': []}}, protected=False, followers_count=17, friends_count=254, listed_count=0, created_at=datetime.datetime(2019, 5, 18, 4, 50, 36, tzinfo=datetime.timezone.utc), favourites_count=2143, utc_offset=None, time_zone=None, geo_enabled=False, verified=False, statuses_count=15, lang=None, contributors_enabled=False, is_translator=False, is_translation_enabled=False, profile_background_color='F5F8FA', profile_background_image_url=None, profile_background_image_url_https=None, profile_background_tile=False, profile_image_url='http://pbs.twimg.com/profile_images/1545989047901794304/CuWuqd1c_normal.jpg', profile_image_url_https='https://pbs.twimg.com/profile_images/1545989047901794304/CuWuqd1c_normal.jpg', profile_banner_url='https://pbs.twimg.com/profile_banners/1129610210534801409/1657424434', profile_link_color='1DA1F2', profile_sidebar_border_color='C0DEED', profile_sidebar_fill_color='DDEEF6', profile_text_color='333333', profile_use_background_image=True, has_extended_profile=True, default_profile=True, default_profile_image=False, following=False, follow_request_sent=False, notifications=False, translator_type='none', withheld_in_countries=[])"
      ]
     },
     "execution_count": 8,
     "metadata": {},
     "output_type": "execute_result"
    }
   ],
   "source": [
    "timeline[0].user"
   ]
  },
  {
   "cell_type": "code",
   "execution_count": 9,
   "metadata": {},
   "outputs": [
    {
     "data": {
      "text/plain": [
       "{'hashtags': [],\n",
       " 'symbols': [],\n",
       " 'user_mentions': [{'screen_name': 'void_inzalis',\n",
       "   'name': 'void (Mournfinale) / ぼれ',\n",
       "   'id': 34633231,\n",
       "   'id_str': '34633231',\n",
       "   'indices': [3, 16]}],\n",
       " 'urls': []}"
      ]
     },
     "execution_count": 9,
     "metadata": {},
     "output_type": "execute_result"
    }
   ],
   "source": [
    "timeline[0].entities"
   ]
  },
  {
   "cell_type": "code",
   "execution_count": null,
   "metadata": {},
   "outputs": [],
   "source": []
  }
 ],
 "metadata": {
  "kernelspec": {
   "display_name": "Python 3.9.12 ('twitter')",
   "language": "python",
   "name": "python3"
  },
  "language_info": {
   "codemirror_mode": {
    "name": "ipython",
    "version": 3
   },
   "file_extension": ".py",
   "mimetype": "text/x-python",
   "name": "python",
   "nbconvert_exporter": "python",
   "pygments_lexer": "ipython3",
   "version": "3.9.12"
  },
  "orig_nbformat": 4,
  "vscode": {
   "interpreter": {
    "hash": "bb39d29fcb4e0970e320761ecc6ae417349ac72c7349e479225b933530659869"
   }
  }
 },
 "nbformat": 4,
 "nbformat_minor": 2
}
