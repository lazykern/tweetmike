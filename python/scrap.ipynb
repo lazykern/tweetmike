{
 "cells": [
  {
   "cell_type": "code",
   "execution_count": 58,
   "metadata": {},
   "outputs": [],
   "source": [
    "from scrap_body_params import scrap_body\n",
    "from selenium.webdriver import Chrome\n",
    "from selenium.webdriver.common.by import By\n",
    "from selenium.webdriver.common.keys import Keys\n",
    "import json"
   ]
  },
  {
   "cell_type": "code",
   "execution_count": 59,
   "metadata": {},
   "outputs": [],
   "source": [
    "driver = Chrome()\n"
   ]
  },
  {
   "cell_type": "code",
   "execution_count": 60,
   "metadata": {},
   "outputs": [],
   "source": [
    "endpoints = json.load(open('../json/2/endpoints.json'))"
   ]
  },
  {
   "cell_type": "code",
   "execution_count": 64,
   "metadata": {},
   "outputs": [
    {
     "name": "stdout",
     "output_type": "stream",
     "text": [
      "POST /2/lists\n",
      "{\n",
      "    \"name\": \"private\",\n",
      "    \"role\": \"body\",\n",
      "    \"description\": \"Determine whether the List should be private.\",\n",
      "    \"type\": \"boolean\",\n",
      "    \"required\": false\n",
      "}\n",
      "PUT /2/lists/:id\n",
      "{\n",
      "    \"name\": \"private\",\n",
      "    \"role\": \"body\",\n",
      "    \"description\": \"Determines whether the List should be private.\",\n",
      "    \"type\": \"boolean\",\n",
      "    \"required\": false\n",
      "}\n",
      "POST /2/lists/:id/members\n",
      "{\n",
      "    \"name\": \"user_id\",\n",
      "    \"role\": \"body\",\n",
      "    \"description\": \"The ID of the user you wish to add as a member of the List.\",\n",
      "    \"type\": \"string\",\n",
      "    \"required\": true\n",
      "}\n",
      "POST /2/tweets\n",
      "{\n",
      "    \"name\": \"text\",\n",
      "    \"role\": \"body\",\n",
      "    \"description\": \"Text of the Tweet being created. This field is required if media.media_ids is not present.\",\n",
      "    \"type\": \"string\",\n",
      "    \"required\": false\n",
      "}\n",
      "PUT /2/tweets/:tweet_id/hidden\n",
      "{\n",
      "    \"name\": \"hidden\",\n",
      "    \"role\": \"body\",\n",
      "    \"description\": \"Indicates the action to perform. Specify true to hide the Tweet, false to unhide. Trying to hide a Tweet that's already hidden (or unhide a Tweet that is not hidden) will result in a successful call.\",\n",
      "    \"type\": \"boolean\",\n",
      "    \"required\": true\n",
      "}\n",
      "POST /2/users/:id/blocking\n",
      "{\n",
      "    \"name\": \"target_user_id\",\n",
      "    \"role\": \"body\",\n",
      "    \"description\": \"The user ID of the user that you would like the id to block. The body should contain a string of the user ID inside of a JSON object.\",\n",
      "    \"type\": \"string\",\n",
      "    \"required\": true\n",
      "}\n",
      "POST /2/users/:id/bookmarks\n",
      "{\n",
      "    \"name\": \"tweet_id\",\n",
      "    \"role\": \"body\",\n",
      "    \"description\": \"The ID of the Tweet that you would like an id to Bookmark.\",\n",
      "    \"type\": \"string\",\n",
      "    \"required\": true\n",
      "}\n",
      "POST /2/users/:id/followed_lists\n",
      "{\n",
      "    \"name\": \"list_id\",\n",
      "    \"role\": \"body\",\n",
      "    \"description\": \"The ID of the List that you would like the user id to follow.\",\n",
      "    \"type\": \"string\",\n",
      "    \"required\": true\n",
      "}\n",
      "POST /2/users/:id/following\n",
      "{\n",
      "    \"name\": \"target_user_id\",\n",
      "    \"role\": \"body\",\n",
      "    \"description\": \"The user ID of the user that you would like the id to follow.\",\n",
      "    \"type\": \"string\",\n",
      "    \"required\": true\n",
      "}\n",
      "POST /2/users/:id/likes\n",
      "{\n",
      "    \"name\": \"tweet_id\",\n",
      "    \"role\": \"body\",\n",
      "    \"description\": \"The ID of the Tweet that you would like the user id to Like.\",\n",
      "    \"type\": \"string\",\n",
      "    \"required\": true\n",
      "}\n",
      "POST /2/users/:id/muting\n",
      "{\n",
      "    \"name\": \"target_user_id\",\n",
      "    \"role\": \"body\",\n",
      "    \"description\": \"The user ID of the user that you would like the id to mute. The body should contain a string of the user ID inside of a JSON object.\",\n",
      "    \"type\": \"string\",\n",
      "    \"required\": true\n",
      "}\n",
      "POST /2/users/:id/pinned_lists\n",
      "{\n",
      "    \"name\": \"list_id\",\n",
      "    \"role\": \"body\",\n",
      "    \"description\": \"The ID of the List that you would like the user id to pin.\",\n",
      "    \"type\": \"string\",\n",
      "    \"required\": true\n",
      "}\n",
      "POST /2/users/:id/retweets\n",
      "{\n",
      "    \"name\": \"tweet_id\",\n",
      "    \"role\": \"body\",\n",
      "    \"description\": \"The ID of the Tweet that you would like the user id to Retweet.\",\n",
      "    \"type\": \"string\",\n",
      "    \"required\": true\n",
      "}\n"
     ]
    }
   ],
   "source": [
    "links = []\n",
    "for i, endpoint in enumerate(endpoints):\n",
    "    if endpoint['method'] == \"POST\" or endpoint['method'] == \"PUT\":\n",
    "        driver.get(\"https://www.google.com\")\n",
    "        search_box = driver.find_element(By.XPATH, '//input')\n",
    "        print(endpoint['method'], endpoint['url'])\n",
    "        search_box.send_keys(f\"twitter {endpoint['method']} {endpoint['url']}\")\n",
    "        search_box.send_keys(Keys.RETURN)\n",
    "        driver.find_element(By.XPATH, '//h3').click()\n",
    "\n",
    "        params = scrap_body(driver.current_url)\n",
    "        print(json.dumps(params,indent=4))"
   ]
  },
  {
   "cell_type": "code",
   "execution_count": null,
   "metadata": {},
   "outputs": [],
   "source": []
  }
 ],
 "metadata": {
  "kernelspec": {
   "display_name": "Python 3.10.4 ('web-scrap')",
   "language": "python",
   "name": "python3"
  },
  "language_info": {
   "codemirror_mode": {
    "name": "ipython",
    "version": 3
   },
   "file_extension": ".py",
   "mimetype": "text/x-python",
   "name": "python",
   "nbconvert_exporter": "python",
   "pygments_lexer": "ipython3",
   "version": "3.10.4"
  },
  "orig_nbformat": 4,
  "vscode": {
   "interpreter": {
    "hash": "ac29cc50234cfe732d63ca4d365c35dccae7e038efd12bd4f36c4d5dea494388"
   }
  }
 },
 "nbformat": 4,
 "nbformat_minor": 2
}
